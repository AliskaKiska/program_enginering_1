{
  "nbformat": 4,
  "nbformat_minor": 0,
  "metadata": {
    "colab": {
      "provenance": [],
      "gpuType": "T4"
    },
    "kernelspec": {
      "name": "python3",
      "display_name": "Python 3"
    },
    "language_info": {
      "name": "python"
    },
    "accelerator": "GPU"
  },
  "cells": [
    {
      "cell_type": "code",
      "source": [
        "import os\n",
        "from keras.models import Sequential\n",
        "from keras.layers import Dense, Flatten\n",
        "from keras.datasets import mnist\n",
        "from keras.layers import Dropout\n",
        "from keras.layers import Conv2D, MaxPooling2D\n",
        "import tensorflow as tf\n",
        "\n",
        "from keras.models import load_model\n",
        "from keras.preprocessing import image\n",
        "\n",
        "from google.colab import files\n",
        "import numpy as np\n",
        "\n",
        "import numpy as np\n",
        "%matplotlib inline"
      ],
      "metadata": {
        "id": "xCThrZUbpA8Q"
      },
      "execution_count": 11,
      "outputs": []
    },
    {
      "cell_type": "markdown",
      "source": [
        "# Подготовка данных для обучения сети"
      ],
      "metadata": {
        "id": "h03Cg94GomWl"
      }
    },
    {
      "cell_type": "code",
      "execution_count": 12,
      "metadata": {
        "id": "QcuhlntkoLEi"
      },
      "outputs": [],
      "source": [
        "batch_size = 100 # Размер мини-выборки\n",
        "nb_classes = 10 # Количество классов изображений\n",
        "nb_epoch = 25 # Количество эпох для обучения\n",
        "img_rows, img_cols = 28, 28 # Размер изображений"
      ]
    },
    {
      "cell_type": "code",
      "source": [
        "mnist = tf.keras.datasets.mnist\n",
        "(x_train, y_train), (x_test, y_test) = mnist.load_data()"
      ],
      "metadata": {
        "id": "SI4uF6OzoU5l",
        "colab": {
          "base_uri": "https://localhost:8080/"
        },
        "outputId": "a1366318-bfb9-4d29-cb41-c4f28bcca1e0"
      },
      "execution_count": 13,
      "outputs": [
        {
          "output_type": "stream",
          "name": "stdout",
          "text": [
            "Downloading data from https://storage.googleapis.com/tensorflow/tf-keras-datasets/mnist.npz\n",
            "11490434/11490434 [==============================] - 2s 0us/step\n"
          ]
        }
      ]
    },
    {
      "cell_type": "markdown",
      "source": [
        "# Преобразование размерности и нормализация данных\n",
        "Значение интенсивности пикселей в изображении находится в интервале [0,255]. Для наших целей их необходимо нормализовать - привести к значениям в интервале [0,1]."
      ],
      "metadata": {
        "id": "vXY1pKULofbv"
      }
    },
    {
      "cell_type": "code",
      "source": [
        "x_train = x_train.astype('float32')\n",
        "x_test = x_test.astype('float32')\n",
        "x_train /= 255\n",
        "x_test /= 255"
      ],
      "metadata": {
        "id": "BkvPSIyOoYey"
      },
      "execution_count": 14,
      "outputs": []
    },
    {
      "cell_type": "markdown",
      "source": [
        "Преобразуем метки классов в удобный для обучения нейронной сети формат (one hot encoding)\n"
      ],
      "metadata": {
        "id": "hSKLmQm6ovEN"
      }
    },
    {
      "cell_type": "code",
      "source": [
        "y_train = tf.keras.utils.to_categorical(y_train, nb_classes)\n",
        "y_test = tf.keras.utils.to_categorical(y_test, nb_classes)"
      ],
      "metadata": {
        "id": "lVYSGa5yocAU"
      },
      "execution_count": 15,
      "outputs": []
    },
    {
      "cell_type": "markdown",
      "source": [
        "#Конструируем нейронную сеть и компилируем:\n",
        "loss (функция потерь) - оценка желаемого значения относительно спрогнозированного, применим categorical_crossentropy (кроссэнтропию) - функцию штрафа, которую следует использовать для задач классификации, как у нас;\n",
        "optimizer (функция оптимизации) - агоритм \"подгонки\" внутренних параметров (весов и смещений) модели для минимизации функции потерь, optimizer=\"adam\". Метод вычисляет индивидуальные адаптивные скорости обучения для различных параметров из оценок первого и второго моментов градиентов. Название получено из adaptive moment estimation - адаптивной оценки момента. Есть другие варианты оптимизаторов;\n",
        "metrics (метрики) - используются для мониторинга процесса тренировки и тестирования, metrics=['accuracy'] значит, что мы будем вычислять в модели не только функцию штрафа, но и число правильно классифицированных примеров"
      ],
      "metadata": {
        "id": "UJapsQ92oytM"
      }
    },
    {
      "cell_type": "code",
      "source": [
        "print(\"Если у вас уже есть модель ее можно загрузить, если нет нажмите 'cancel unload'.\\n\")\n",
        "mod = files.upload()"
      ],
      "metadata": {
        "colab": {
          "base_uri": "https://localhost:8080/",
          "height": 107
        },
        "id": "-TOm8vAq-YHU",
        "outputId": "a00cb3f4-8a1b-42db-ea6b-14d6f4131f3b"
      },
      "execution_count": 16,
      "outputs": [
        {
          "output_type": "stream",
          "name": "stdout",
          "text": [
            "Если у вас уже есть модель ее можно загрузить, если нет нажмите 'cancel unload'.\n",
            "\n"
          ]
        },
        {
          "output_type": "display_data",
          "data": {
            "text/plain": [
              "<IPython.core.display.HTML object>"
            ],
            "text/html": [
              "\n",
              "     <input type=\"file\" id=\"files-cf0992fd-fe68-44a4-afc2-a33be393b996\" name=\"files[]\" multiple disabled\n",
              "        style=\"border:none\" />\n",
              "     <output id=\"result-cf0992fd-fe68-44a4-afc2-a33be393b996\">\n",
              "      Upload widget is only available when the cell has been executed in the\n",
              "      current browser session. Please rerun this cell to enable.\n",
              "      </output>\n",
              "      <script>// Copyright 2017 Google LLC\n",
              "//\n",
              "// Licensed under the Apache License, Version 2.0 (the \"License\");\n",
              "// you may not use this file except in compliance with the License.\n",
              "// You may obtain a copy of the License at\n",
              "//\n",
              "//      http://www.apache.org/licenses/LICENSE-2.0\n",
              "//\n",
              "// Unless required by applicable law or agreed to in writing, software\n",
              "// distributed under the License is distributed on an \"AS IS\" BASIS,\n",
              "// WITHOUT WARRANTIES OR CONDITIONS OF ANY KIND, either express or implied.\n",
              "// See the License for the specific language governing permissions and\n",
              "// limitations under the License.\n",
              "\n",
              "/**\n",
              " * @fileoverview Helpers for google.colab Python module.\n",
              " */\n",
              "(function(scope) {\n",
              "function span(text, styleAttributes = {}) {\n",
              "  const element = document.createElement('span');\n",
              "  element.textContent = text;\n",
              "  for (const key of Object.keys(styleAttributes)) {\n",
              "    element.style[key] = styleAttributes[key];\n",
              "  }\n",
              "  return element;\n",
              "}\n",
              "\n",
              "// Max number of bytes which will be uploaded at a time.\n",
              "const MAX_PAYLOAD_SIZE = 100 * 1024;\n",
              "\n",
              "function _uploadFiles(inputId, outputId) {\n",
              "  const steps = uploadFilesStep(inputId, outputId);\n",
              "  const outputElement = document.getElementById(outputId);\n",
              "  // Cache steps on the outputElement to make it available for the next call\n",
              "  // to uploadFilesContinue from Python.\n",
              "  outputElement.steps = steps;\n",
              "\n",
              "  return _uploadFilesContinue(outputId);\n",
              "}\n",
              "\n",
              "// This is roughly an async generator (not supported in the browser yet),\n",
              "// where there are multiple asynchronous steps and the Python side is going\n",
              "// to poll for completion of each step.\n",
              "// This uses a Promise to block the python side on completion of each step,\n",
              "// then passes the result of the previous step as the input to the next step.\n",
              "function _uploadFilesContinue(outputId) {\n",
              "  const outputElement = document.getElementById(outputId);\n",
              "  const steps = outputElement.steps;\n",
              "\n",
              "  const next = steps.next(outputElement.lastPromiseValue);\n",
              "  return Promise.resolve(next.value.promise).then((value) => {\n",
              "    // Cache the last promise value to make it available to the next\n",
              "    // step of the generator.\n",
              "    outputElement.lastPromiseValue = value;\n",
              "    return next.value.response;\n",
              "  });\n",
              "}\n",
              "\n",
              "/**\n",
              " * Generator function which is called between each async step of the upload\n",
              " * process.\n",
              " * @param {string} inputId Element ID of the input file picker element.\n",
              " * @param {string} outputId Element ID of the output display.\n",
              " * @return {!Iterable<!Object>} Iterable of next steps.\n",
              " */\n",
              "function* uploadFilesStep(inputId, outputId) {\n",
              "  const inputElement = document.getElementById(inputId);\n",
              "  inputElement.disabled = false;\n",
              "\n",
              "  const outputElement = document.getElementById(outputId);\n",
              "  outputElement.innerHTML = '';\n",
              "\n",
              "  const pickedPromise = new Promise((resolve) => {\n",
              "    inputElement.addEventListener('change', (e) => {\n",
              "      resolve(e.target.files);\n",
              "    });\n",
              "  });\n",
              "\n",
              "  const cancel = document.createElement('button');\n",
              "  inputElement.parentElement.appendChild(cancel);\n",
              "  cancel.textContent = 'Cancel upload';\n",
              "  const cancelPromise = new Promise((resolve) => {\n",
              "    cancel.onclick = () => {\n",
              "      resolve(null);\n",
              "    };\n",
              "  });\n",
              "\n",
              "  // Wait for the user to pick the files.\n",
              "  const files = yield {\n",
              "    promise: Promise.race([pickedPromise, cancelPromise]),\n",
              "    response: {\n",
              "      action: 'starting',\n",
              "    }\n",
              "  };\n",
              "\n",
              "  cancel.remove();\n",
              "\n",
              "  // Disable the input element since further picks are not allowed.\n",
              "  inputElement.disabled = true;\n",
              "\n",
              "  if (!files) {\n",
              "    return {\n",
              "      response: {\n",
              "        action: 'complete',\n",
              "      }\n",
              "    };\n",
              "  }\n",
              "\n",
              "  for (const file of files) {\n",
              "    const li = document.createElement('li');\n",
              "    li.append(span(file.name, {fontWeight: 'bold'}));\n",
              "    li.append(span(\n",
              "        `(${file.type || 'n/a'}) - ${file.size} bytes, ` +\n",
              "        `last modified: ${\n",
              "            file.lastModifiedDate ? file.lastModifiedDate.toLocaleDateString() :\n",
              "                                    'n/a'} - `));\n",
              "    const percent = span('0% done');\n",
              "    li.appendChild(percent);\n",
              "\n",
              "    outputElement.appendChild(li);\n",
              "\n",
              "    const fileDataPromise = new Promise((resolve) => {\n",
              "      const reader = new FileReader();\n",
              "      reader.onload = (e) => {\n",
              "        resolve(e.target.result);\n",
              "      };\n",
              "      reader.readAsArrayBuffer(file);\n",
              "    });\n",
              "    // Wait for the data to be ready.\n",
              "    let fileData = yield {\n",
              "      promise: fileDataPromise,\n",
              "      response: {\n",
              "        action: 'continue',\n",
              "      }\n",
              "    };\n",
              "\n",
              "    // Use a chunked sending to avoid message size limits. See b/62115660.\n",
              "    let position = 0;\n",
              "    do {\n",
              "      const length = Math.min(fileData.byteLength - position, MAX_PAYLOAD_SIZE);\n",
              "      const chunk = new Uint8Array(fileData, position, length);\n",
              "      position += length;\n",
              "\n",
              "      const base64 = btoa(String.fromCharCode.apply(null, chunk));\n",
              "      yield {\n",
              "        response: {\n",
              "          action: 'append',\n",
              "          file: file.name,\n",
              "          data: base64,\n",
              "        },\n",
              "      };\n",
              "\n",
              "      let percentDone = fileData.byteLength === 0 ?\n",
              "          100 :\n",
              "          Math.round((position / fileData.byteLength) * 100);\n",
              "      percent.textContent = `${percentDone}% done`;\n",
              "\n",
              "    } while (position < fileData.byteLength);\n",
              "  }\n",
              "\n",
              "  // All done.\n",
              "  yield {\n",
              "    response: {\n",
              "      action: 'complete',\n",
              "    }\n",
              "  };\n",
              "}\n",
              "\n",
              "scope.google = scope.google || {};\n",
              "scope.google.colab = scope.google.colab || {};\n",
              "scope.google.colab._files = {\n",
              "  _uploadFiles,\n",
              "  _uploadFilesContinue,\n",
              "};\n",
              "})(self);\n",
              "</script> "
            ]
          },
          "metadata": {}
        },
        {
          "output_type": "stream",
          "name": "stdout",
          "text": [
            "Saving my_model.h5 to my_model.h5\n"
          ]
        }
      ]
    },
    {
      "cell_type": "code",
      "source": [
        "pt = !ls\n",
        "if pt[0].find('my_model.h5') != -1:\n",
        "\n",
        "  model = load_model('my_model.h5')\n",
        "\n",
        "else:\n",
        "\n",
        "  # Создаем последовательную модель нейронной сети\n",
        "  model = Sequential()\n",
        "  # Первый сверточный слой\n",
        "  model.add(Conv2D(img_rows, (3, 3), padding='same',\n",
        "                          input_shape=(img_rows, img_cols, 1), activation='relu'))\n",
        "  # Второй сверточный слой\n",
        "  model.add(Conv2D(img_rows, (3, 3), activation='relu', padding='same'))\n",
        "  # Первый слой подвыборки\n",
        "  model.add(MaxPooling2D(pool_size=(2, 2)))\n",
        "  # Слой регуляризации Dropout\n",
        "  model.add(Dropout(0.25))\n",
        "\n",
        "  # Третий сверточный слой\n",
        "  model.add(Conv2D(2 * img_rows, (3, 3), padding='same', activation='relu'))\n",
        "  # Четвертый сверточный слой\n",
        "  model.add(Conv2D(2 * img_rows, (3, 3), activation='relu'))\n",
        "  # Второй слой подвыборки\n",
        "  model.add(MaxPooling2D(pool_size=(2, 2)))\n",
        "  # Слой регуляризации Dropout\n",
        "  model.add(Dropout(0.25))\n",
        "  # Слой преобразования данных из 2D представления в плоское\n",
        "  model.add(Flatten())\n",
        "  # Полносвязный слой для классификации\n",
        "  model.add(Dense(8 * img_rows, activation='relu'))\n",
        "  # Слой регуляризации Dropout\n",
        "  model.add(Dropout(0.5))\n",
        "  # Выходной полносвязный слой\n",
        "  model.add(Dense(nb_classes, activation='softmax'))\n",
        "\n",
        "  #________________________________________________\n",
        "  model.compile(loss='categorical_crossentropy',\n",
        "              optimizer='adam',\n",
        "              metrics=['accuracy'])\n",
        "  print(model.summary())\n",
        "\n",
        "  #Обучаем модель\n",
        "  model.fit(x_train,y_train,epochs=5)\n",
        "  #Сохраняем модель\n",
        "  model.save('my_model.h5')\n",
        "  #Для удаления старой модели:\n",
        "  #del model\n",
        "  #Для загрузки модели:\n",
        "  #model = load_model('my_model.h5')"
      ],
      "metadata": {
        "id": "lc99SZnn7ckm"
      },
      "execution_count": 17,
      "outputs": []
    },
    {
      "cell_type": "code",
      "source": [
        "#Простая оценка\n",
        "model.evaluate(x_test,  y_test, verbose=2)"
      ],
      "metadata": {
        "id": "OddxrSY-ykWI",
        "colab": {
          "base_uri": "https://localhost:8080/"
        },
        "outputId": "320a72e7-3dec-4248-eeb7-d219eda7d858"
      },
      "execution_count": 18,
      "outputs": [
        {
          "output_type": "stream",
          "name": "stdout",
          "text": [
            "313/313 - 8s - loss: 0.0203 - accuracy: 0.9924 - 8s/epoch - 25ms/step\n"
          ]
        },
        {
          "output_type": "execute_result",
          "data": {
            "text/plain": [
              "[0.020323092117905617, 0.9923999905586243]"
            ]
          },
          "metadata": {},
          "execution_count": 18
        }
      ]
    },
    {
      "cell_type": "code",
      "source": [
        "import cv2\n",
        "from google.colab.patches import cv2_imshow\n",
        "import numpy as np\n",
        "import pandas as pd\n",
        "from copy import deepcopy"
      ],
      "metadata": {
        "id": "luhIEsDKL3XD"
      },
      "execution_count": 19,
      "outputs": []
    },
    {
      "cell_type": "code",
      "source": [
        "def count_spot_stack(image, x, y): #количественная оценка \"пятна\"\n",
        "  mx, my = image.shape\n",
        "  res=0\n",
        "  xl, xr, yl, yr = x, x, y, y\n",
        "  stack={(x, y)}\n",
        "  while stack:\n",
        "    pixel=stack.pop()\n",
        "    if not image[pixel]:\n",
        "      res+=1\n",
        "      x, y = pixel\n",
        "\n",
        "      if x < xl:\n",
        "        xl = x\n",
        "      elif x > xr:\n",
        "        xr = x\n",
        "      if y < yl:\n",
        "        yl = y\n",
        "      elif y > yr:\n",
        "        yr = y\n",
        "\n",
        "      stack|=set(pix for pix in [(x-1, y), (x+1, y), (x, y-1), (x, y+1)] if (0<=pix[0]<mx and 0<=pix[1]<my))\n",
        "      image[pixel]=True\n",
        "  del stack\n",
        "  return {\"value\": res, \"bounds\": (xl, xr, yl, yr)}\n",
        "\n",
        "def find_spots(image): #Поиск пятен на изображении\n",
        "  id=0\n",
        "  for x in range(image.shape[0]):\n",
        "    for y in range(image.shape[1]):\n",
        "      if image[x, y]==0:\n",
        "        mask=deepcopy(image)\n",
        "        temp = count_spot_stack(image, x, y)\n",
        "        xl, xr, yl, yr = temp[\"bounds\"]\n",
        "        xx=(xr-xl+1)//28*3\n",
        "        yy=(yr-yl+1)//28*3\n",
        "        xl-=xx\n",
        "        xr+=xx\n",
        "        yl-=yy\n",
        "        yr+=yy\n",
        "        mask&=image\n",
        "        yield {\"id\": id} | temp | {\"mask\": deepcopy(mask[xl:xr+1, yl:yr+1])}\n",
        "        del mask\n",
        "        id+=1\n",
        "\n",
        "def color_spots(image, color, spots): #Окрашивание набора пятен в один цвет\n",
        "  try:\n",
        "    img=cv2.cvtColor(image, cv2.COLOR_GRAY2BGR)\n",
        "  except:\n",
        "    img=deepcopy(image)\n",
        "\n",
        "  color=tuple(reversed(color))\n",
        "  mask_bin=np.full(image.shape[:2], True)\n",
        "  mask1=img*0\n",
        "  for spot in spots:\n",
        "    xl, xr, yl, yr = spot[\"bounds\"]\n",
        "    mask_bin[xl:xr+1, yl:yr+1]+=spot[\"mask\"]\n",
        "  mask2=deepcopy(img)\n",
        "  mask2[:, :]=0\n",
        "  mask2[mask_bin==True]=(255, 255, 255)\n",
        "  mask1=mask2/np.array([255,255,255])\n",
        "  img[mask_bin==True]=(255, 255, 255)\n",
        "  return img*(1-mask1+mask1*np.array(color)/np.array([255,255,255]))\n",
        "\n",
        "\n",
        "\n",
        "def color_spots_cond(image, spots, color_cond): #Окрашивание набора пятен в зависимости от указанных в color_cond условий\n",
        "  try:\n",
        "    img=cv2.cvtColor(image, cv2.COLOR_GRAY2BGR)\n",
        "  except:\n",
        "    img=deepcopy(image)\n",
        "\n",
        "  color_cond={tuple(reversed(color)): cond for color, cond in color_cond.items()}\n",
        "  if (255, 255, 255) not in color_cond:\n",
        "      color_cond|={(255, 255, 255): lambda spot: True}\n",
        "  masks_bin={color: np.full(img.shape[:2], 0) for color in color_cond}\n",
        "  mask1=img*0\n",
        "  for spot in spots:\n",
        "    xl, xr, yl, yr = spot[\"bounds\"]\n",
        "    for color, cond in color_cond.items():\n",
        "      if cond(spot):\n",
        "        masks_bin[color][xl:xr+1, yl:yr+1]+=spot[\"mask\"]\n",
        "        break\n",
        "  for color, mask_bin in masks_bin.items():\n",
        "    img[mask_bin==255]=color\n",
        "\n",
        "  return img\n",
        "\n",
        "\n",
        "def make_table(spots, word_cond):\n",
        "    df=pd.DataFrame([{\"id\": spot[\"id\"], \"value\":spot[\"value\"], \"left\":spot[\"bounds\"][0], \"up\":spot[\"bounds\"][2], \"right\":spot[\"bounds\"][1], \"down\":spot[\"bounds\"][3]} for spot in spots])\n",
        "    word_cond=word_cond|{\"Вне классификации\" : lambda spot: True}\n",
        "    words=[]\n",
        "    for spot in spots:\n",
        "        for word, cond in word_cond.items():\n",
        "            if cond(spot):\n",
        "                words.append(word)\n",
        "                break\n",
        "    df[\"word\"] = words\n",
        "    return df\n",
        "\n",
        "porog=255-75\n"
      ],
      "metadata": {
        "id": "4TH2lVUVLJ6S"
      },
      "execution_count": 64,
      "outputs": []
    },
    {
      "cell_type": "code",
      "source": [
        "img_load = files.upload()\n",
        "for i in img_load.keys():\n",
        "  pass"
      ],
      "metadata": {
        "colab": {
          "base_uri": "https://localhost:8080/",
          "height": 73
        },
        "id": "rbW7zbS0O2gb",
        "outputId": "aa7e1d2a-1cc5-46d4-bf30-8963b0729e8d"
      },
      "execution_count": 109,
      "outputs": [
        {
          "output_type": "display_data",
          "data": {
            "text/plain": [
              "<IPython.core.display.HTML object>"
            ],
            "text/html": [
              "\n",
              "     <input type=\"file\" id=\"files-be39a7f3-3f09-486d-b1ef-7f296deffac8\" name=\"files[]\" multiple disabled\n",
              "        style=\"border:none\" />\n",
              "     <output id=\"result-be39a7f3-3f09-486d-b1ef-7f296deffac8\">\n",
              "      Upload widget is only available when the cell has been executed in the\n",
              "      current browser session. Please rerun this cell to enable.\n",
              "      </output>\n",
              "      <script>// Copyright 2017 Google LLC\n",
              "//\n",
              "// Licensed under the Apache License, Version 2.0 (the \"License\");\n",
              "// you may not use this file except in compliance with the License.\n",
              "// You may obtain a copy of the License at\n",
              "//\n",
              "//      http://www.apache.org/licenses/LICENSE-2.0\n",
              "//\n",
              "// Unless required by applicable law or agreed to in writing, software\n",
              "// distributed under the License is distributed on an \"AS IS\" BASIS,\n",
              "// WITHOUT WARRANTIES OR CONDITIONS OF ANY KIND, either express or implied.\n",
              "// See the License for the specific language governing permissions and\n",
              "// limitations under the License.\n",
              "\n",
              "/**\n",
              " * @fileoverview Helpers for google.colab Python module.\n",
              " */\n",
              "(function(scope) {\n",
              "function span(text, styleAttributes = {}) {\n",
              "  const element = document.createElement('span');\n",
              "  element.textContent = text;\n",
              "  for (const key of Object.keys(styleAttributes)) {\n",
              "    element.style[key] = styleAttributes[key];\n",
              "  }\n",
              "  return element;\n",
              "}\n",
              "\n",
              "// Max number of bytes which will be uploaded at a time.\n",
              "const MAX_PAYLOAD_SIZE = 100 * 1024;\n",
              "\n",
              "function _uploadFiles(inputId, outputId) {\n",
              "  const steps = uploadFilesStep(inputId, outputId);\n",
              "  const outputElement = document.getElementById(outputId);\n",
              "  // Cache steps on the outputElement to make it available for the next call\n",
              "  // to uploadFilesContinue from Python.\n",
              "  outputElement.steps = steps;\n",
              "\n",
              "  return _uploadFilesContinue(outputId);\n",
              "}\n",
              "\n",
              "// This is roughly an async generator (not supported in the browser yet),\n",
              "// where there are multiple asynchronous steps and the Python side is going\n",
              "// to poll for completion of each step.\n",
              "// This uses a Promise to block the python side on completion of each step,\n",
              "// then passes the result of the previous step as the input to the next step.\n",
              "function _uploadFilesContinue(outputId) {\n",
              "  const outputElement = document.getElementById(outputId);\n",
              "  const steps = outputElement.steps;\n",
              "\n",
              "  const next = steps.next(outputElement.lastPromiseValue);\n",
              "  return Promise.resolve(next.value.promise).then((value) => {\n",
              "    // Cache the last promise value to make it available to the next\n",
              "    // step of the generator.\n",
              "    outputElement.lastPromiseValue = value;\n",
              "    return next.value.response;\n",
              "  });\n",
              "}\n",
              "\n",
              "/**\n",
              " * Generator function which is called between each async step of the upload\n",
              " * process.\n",
              " * @param {string} inputId Element ID of the input file picker element.\n",
              " * @param {string} outputId Element ID of the output display.\n",
              " * @return {!Iterable<!Object>} Iterable of next steps.\n",
              " */\n",
              "function* uploadFilesStep(inputId, outputId) {\n",
              "  const inputElement = document.getElementById(inputId);\n",
              "  inputElement.disabled = false;\n",
              "\n",
              "  const outputElement = document.getElementById(outputId);\n",
              "  outputElement.innerHTML = '';\n",
              "\n",
              "  const pickedPromise = new Promise((resolve) => {\n",
              "    inputElement.addEventListener('change', (e) => {\n",
              "      resolve(e.target.files);\n",
              "    });\n",
              "  });\n",
              "\n",
              "  const cancel = document.createElement('button');\n",
              "  inputElement.parentElement.appendChild(cancel);\n",
              "  cancel.textContent = 'Cancel upload';\n",
              "  const cancelPromise = new Promise((resolve) => {\n",
              "    cancel.onclick = () => {\n",
              "      resolve(null);\n",
              "    };\n",
              "  });\n",
              "\n",
              "  // Wait for the user to pick the files.\n",
              "  const files = yield {\n",
              "    promise: Promise.race([pickedPromise, cancelPromise]),\n",
              "    response: {\n",
              "      action: 'starting',\n",
              "    }\n",
              "  };\n",
              "\n",
              "  cancel.remove();\n",
              "\n",
              "  // Disable the input element since further picks are not allowed.\n",
              "  inputElement.disabled = true;\n",
              "\n",
              "  if (!files) {\n",
              "    return {\n",
              "      response: {\n",
              "        action: 'complete',\n",
              "      }\n",
              "    };\n",
              "  }\n",
              "\n",
              "  for (const file of files) {\n",
              "    const li = document.createElement('li');\n",
              "    li.append(span(file.name, {fontWeight: 'bold'}));\n",
              "    li.append(span(\n",
              "        `(${file.type || 'n/a'}) - ${file.size} bytes, ` +\n",
              "        `last modified: ${\n",
              "            file.lastModifiedDate ? file.lastModifiedDate.toLocaleDateString() :\n",
              "                                    'n/a'} - `));\n",
              "    const percent = span('0% done');\n",
              "    li.appendChild(percent);\n",
              "\n",
              "    outputElement.appendChild(li);\n",
              "\n",
              "    const fileDataPromise = new Promise((resolve) => {\n",
              "      const reader = new FileReader();\n",
              "      reader.onload = (e) => {\n",
              "        resolve(e.target.result);\n",
              "      };\n",
              "      reader.readAsArrayBuffer(file);\n",
              "    });\n",
              "    // Wait for the data to be ready.\n",
              "    let fileData = yield {\n",
              "      promise: fileDataPromise,\n",
              "      response: {\n",
              "        action: 'continue',\n",
              "      }\n",
              "    };\n",
              "\n",
              "    // Use a chunked sending to avoid message size limits. See b/62115660.\n",
              "    let position = 0;\n",
              "    do {\n",
              "      const length = Math.min(fileData.byteLength - position, MAX_PAYLOAD_SIZE);\n",
              "      const chunk = new Uint8Array(fileData, position, length);\n",
              "      position += length;\n",
              "\n",
              "      const base64 = btoa(String.fromCharCode.apply(null, chunk));\n",
              "      yield {\n",
              "        response: {\n",
              "          action: 'append',\n",
              "          file: file.name,\n",
              "          data: base64,\n",
              "        },\n",
              "      };\n",
              "\n",
              "      let percentDone = fileData.byteLength === 0 ?\n",
              "          100 :\n",
              "          Math.round((position / fileData.byteLength) * 100);\n",
              "      percent.textContent = `${percentDone}% done`;\n",
              "\n",
              "    } while (position < fileData.byteLength);\n",
              "  }\n",
              "\n",
              "  // All done.\n",
              "  yield {\n",
              "    response: {\n",
              "      action: 'complete',\n",
              "    }\n",
              "  };\n",
              "}\n",
              "\n",
              "scope.google = scope.google || {};\n",
              "scope.google.colab = scope.google.colab || {};\n",
              "scope.google.colab._files = {\n",
              "  _uploadFiles,\n",
              "  _uploadFilesContinue,\n",
              "};\n",
              "})(self);\n",
              "</script> "
            ]
          },
          "metadata": {}
        },
        {
          "output_type": "stream",
          "name": "stdout",
          "text": [
            "Saving изображение_2023-11-01_081718639.png to изображение_2023-11-01_081718639.png\n"
          ]
        }
      ]
    },
    {
      "cell_type": "code",
      "source": [
        "img = cv2.imread(i, cv2.IMREAD_GRAYSCALE)\n",
        "\n",
        "\n",
        "img2 = deepcopy(img)\n",
        "img2[img2<=porog]=0\n",
        "img2[img2>porog]=255\n",
        "img2.dtype=np.uint8\n",
        "\n",
        "result=\"\"\n",
        "for spot in find_spots(deepcopy(img2)):\n",
        "  temp=cv2.resize(spot[\"mask\"], (28,28), interpolation = cv2.INTER_AREA)\n",
        "  temp=temp.reshape(1,28,28,1)\n",
        "  temp=1-temp/255\n",
        "  prediction = model.predict([temp], verbose=0)[0]\n",
        "  result+=str(np.argmax(prediction))\n",
        "\n",
        "print(result)"
      ],
      "metadata": {
        "colab": {
          "base_uri": "https://localhost:8080/"
        },
        "id": "q7m2P_OiO6O7",
        "outputId": "aad6da3e-911e-47ef-df74-7ca5777753e6"
      },
      "execution_count": 113,
      "outputs": [
        {
          "output_type": "stream",
          "name": "stdout",
          "text": [
            "027\n"
          ]
        }
      ]
    }
  ]
}